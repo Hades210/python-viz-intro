{
 "metadata": {
  "name": "",
  "signature": "sha256:fc1ebfbf5c97e694c2c7013d97f553cc974da1e0ab3f6a2668e89055a81d9598"
 },
 "nbformat": 3,
 "nbformat_minor": 0,
 "worksheets": [
  {
   "cells": [
    {
     "cell_type": "markdown",
     "metadata": {},
     "source": [
      "# Data Assimilation and Visualization Short Course\n",
      "# Visualization practical\n",
      "\n",
      "## Wednesday 17th September 2014\n",
      "## Jon Blower\n",
      "\n",
      "# Lesson 3: Plotting data from NetCDF files\n",
      "\n",
      "The `netCDF4` library provides access to data stored in [NetCDF](http://www.unidata.ucar.edu/software/netcdf/) format, which is a very common modern format for storing scientific data. NetCDF files hold multidimensional arrays of data, plus attributes that describe the data. Different communities use different sets of attributes, but the most common set of attributes are defined by the [Climate and Forecast conventions](http://cfconventions.org), otherwise known as the \"CF Conventions\".\n",
      "\n",
      "In this practical we won't have time to look into the details of NetCDF or the CF conventions, but we'll just look at some simple code to extract and plot data.\n",
      "\n",
      "## Objectives\n",
      "1. Learn a little about the structure of NetCDF files\n",
      "2. Learn how to extract multidimensional data from NetCDF files\n",
      "3. Learn how to create map plots and other kinds of plots\n",
      "\n",
      "## Creating map plots\n",
      "\n",
      "First, we'll import the NetCDF library:"
     ]
    },
    {
     "cell_type": "code",
     "collapsed": false,
     "input": [
      "import netCDF4"
     ],
     "language": "python",
     "metadata": {},
     "outputs": [],
     "prompt_number": 1
    },
    {
     "cell_type": "markdown",
     "metadata": {},
     "source": [
      "We've put some data files in the `data` directory. Let's open one of them."
     ]
    },
    {
     "cell_type": "code",
     "collapsed": false,
     "input": [
      "nc = netCDF4.Dataset('data/FOAM_20100130.0.nc')"
     ],
     "language": "python",
     "metadata": {},
     "outputs": [],
     "prompt_number": 2
    },
    {
     "cell_type": "markdown",
     "metadata": {},
     "source": [
      "We can see what variables we have in the dataset with `nc.variables`. This returns a [*dictionary*](http://www.pythonforbeginners.com/dictionary/how-to-use-dictionaries-in-python) of Variable objects, the keys of which give the identifiers of the variables:"
     ]
    },
    {
     "cell_type": "code",
     "collapsed": false,
     "input": [
      "nc.variables.keys()"
     ],
     "language": "python",
     "metadata": {},
     "outputs": [
      {
       "metadata": {},
       "output_type": "pyout",
       "prompt_number": 3,
       "text": [
        "[u'depth',\n",
        " u'lat',\n",
        " u'lon',\n",
        " u'ICEC',\n",
        " u'ICETK',\n",
        " u'M',\n",
        " u'SALTY',\n",
        " u'TMP',\n",
        " u'U',\n",
        " u'V']"
       ]
      }
     ],
     "prompt_number": 3
    },
    {
     "cell_type": "markdown",
     "metadata": {},
     "source": [
      "(The leading 'u' means that these are [Unicode](http://en.wikipedia.org/wiki/Unicode) strings. Don't worry about this, it just means that the strings could contain international characters like \u001d",
      "\n",
      "\n",
      "\n",
      "\u00fc or \u00e9 if we wanted.)\n",
      "\n",
      "\n",
      "\n",
      "\n",
      "\n",
      "\n",
      "\n",
      "Let's say we want to plot the temperature variable. Let's get a handle to this variable:"
     ]
    },
    {
     "cell_type": "code",
     "collapsed": false,
     "input": [
      "t = nc.variables['TMP']"
     ],
     "language": "python",
     "metadata": {},
     "outputs": [],
     "prompt_number": 4
    },
    {
     "cell_type": "markdown",
     "metadata": {},
     "source": [
      "We can find its units:"
     ]
    },
    {
     "cell_type": "code",
     "collapsed": false,
     "input": [
      "t.units"
     ],
     "language": "python",
     "metadata": {},
     "outputs": [
      {
       "metadata": {},
       "output_type": "pyout",
       "prompt_number": 5,
       "text": [
        "u'K'"
       ]
      }
     ],
     "prompt_number": 5
    },
    {
     "cell_type": "markdown",
     "metadata": {},
     "source": [
      "(The 'K' means Kelvin, of course.) We can find its *long name*, which is a human-readable string that describes what the variable represents:"
     ]
    },
    {
     "cell_type": "code",
     "collapsed": false,
     "input": [
      "t.long_name"
     ],
     "language": "python",
     "metadata": {},
     "outputs": [
      {
       "metadata": {},
       "output_type": "pyout",
       "prompt_number": 6,
       "text": [
        "u'temperature'"
       ]
      }
     ],
     "prompt_number": 6
    },
    {
     "cell_type": "markdown",
     "metadata": {},
     "source": [
      "We can also find its *standard name*, which is a more precise description of the variable:"
     ]
    },
    {
     "cell_type": "code",
     "collapsed": false,
     "input": [
      "t.standard_name"
     ],
     "language": "python",
     "metadata": {},
     "outputs": [
      {
       "metadata": {},
       "output_type": "pyout",
       "prompt_number": 7,
       "text": [
        "u'sea_water_potential_temperature'"
       ]
      }
     ],
     "prompt_number": 7
    },
    {
     "cell_type": "markdown",
     "metadata": {},
     "source": [
      "You can look up the definition of the standard name in the CF conventions' [table of standard names](http://cfconventions.org/standard-names.html) if you want.\n",
      "\n",
      "(Note that not all NetCDF files provide long names or standard names for their variables, but it's good practice to do so.)\n",
      "\n",
      "Now let's extract some data from the variable. When we read data from a NetCDF variable, we get a Numpy array that we can manipulate in exactly the same way as any other Numpy array.\n",
      "\n",
      "It's usually a good idea to check how big the data array will be, since they can be very large and can contain any number of dimensions. The `shape` attribute let's us find this, without actually reading any data at this point:"
     ]
    },
    {
     "cell_type": "code",
     "collapsed": false,
     "input": [
      "t.shape"
     ],
     "language": "python",
     "metadata": {},
     "outputs": [
      {
       "metadata": {},
       "output_type": "pyout",
       "prompt_number": 8,
       "text": [
        "(20, 171, 360)"
       ]
      }
     ],
     "prompt_number": 8
    },
    {
     "cell_type": "markdown",
     "metadata": {},
     "source": [
      "So the temperature variable is a three-dimensional array, but what are the dimensions? We can find this out too:"
     ]
    },
    {
     "cell_type": "code",
     "collapsed": false,
     "input": [
      "t.dimensions"
     ],
     "language": "python",
     "metadata": {},
     "outputs": [
      {
       "metadata": {},
       "output_type": "pyout",
       "prompt_number": 9,
       "text": [
        "(u'depth', u'lat', u'lon')"
       ]
      }
     ],
     "prompt_number": 9
    },
    {
     "cell_type": "markdown",
     "metadata": {},
     "source": [
      "So there are 20 values of depth, 171 of latitude and 360 of longitude. We're just going to plot a simple map, so we're going to *slice* the data at the first depth value:"
     ]
    },
    {
     "cell_type": "code",
     "collapsed": false,
     "input": [
      "data = t[0]\n",
      "data.shape"
     ],
     "language": "python",
     "metadata": {},
     "outputs": [
      {
       "metadata": {},
       "output_type": "pyout",
       "prompt_number": 10,
       "text": [
        "(171, 360)"
       ]
      }
     ],
     "prompt_number": 10
    },
    {
     "cell_type": "markdown",
     "metadata": {},
     "source": [
      "Now `data` is a 2D array of all the data at the first depth level. We can plot the data using matplotlib's `contourf` function, which creates a filled contour plot. In this case we're using 20 levels of colour."
     ]
    },
    {
     "cell_type": "code",
     "collapsed": false,
     "input": [
      "import matplotlib.pyplot as plt\n",
      "%matplotlib inline\n",
      "plt.contourf(data, 20)"
     ],
     "language": "python",
     "metadata": {},
     "outputs": [
      {
       "metadata": {},
       "output_type": "pyout",
       "prompt_number": 11,
       "text": [
        "<matplotlib.contour.QuadContourSet instance at 0x1124b73b0>"
       ]
      },
      {
       "metadata": {},
       "output_type": "display_data",
       "png": "[encoded data removed]",
       "text": [
        "<matplotlib.figure.Figure at 0x1123dafd0>"
       ]
      }
     ],
     "prompt_number": 11
    },
    {
     "cell_type": "markdown",
     "metadata": {},
     "source": [
      "This plot isn't very satisfactory. Apart from the fact that there are no labels or colour bar on the plot to indicate what we are looking at, the axis values are wrong. We need to find the longitude and latitude values along the axes. We do this by finding the variables that hold these values.\n",
      "\n",
      "We know from above that there is a dimension called 'lat' and a dimension called 'lon'. The variables that hold the values of latitude and longitude have the same names, so we can get handles to the variable objects like this:"
     ]
    },
    {
     "cell_type": "code",
     "collapsed": false,
     "input": [
      "lon = nc.variables['lon']\n",
      "lat = nc.variables['lat']"
     ],
     "language": "python",
     "metadata": {},
     "outputs": [],
     "prompt_number": 12
    },
    {
     "cell_type": "markdown",
     "metadata": {},
     "source": [
      "Now we can read the actual values of longitude and latitude. Note that \"`[:]`\" means \"read all the values from the variable\"."
     ]
    },
    {
     "cell_type": "code",
     "collapsed": false,
     "input": [
      "lonvals = lon[:]\n",
      "latvals = lat[:]"
     ],
     "language": "python",
     "metadata": {},
     "outputs": [],
     "prompt_number": 13
    },
    {
     "cell_type": "markdown",
     "metadata": {},
     "source": [
      "Now we can make a better plot. Note how we use the `long_name` and `units` of the variables for the title and axis labels. Also, we are using a more appropriate [colour scale](http://matplotlib.org/examples/color/colormaps_reference.html) than the default rainbow scale (question: why is this scale more appropriate?)."
     ]
    },
    {
     "cell_type": "code",
     "collapsed": false,
     "input": [
      "plt.title (t.long_name   + ' (' + t.units   + ')')\n",
      "plt.xlabel(lon.long_name + ' (' + lon.units + ')')\n",
      "plt.ylabel(lat.long_name + ' (' + lat.units + ')')\n",
      "plt.contourf(lonvals, latvals, data, 20, cmap=plt.get_cmap('YlGnBu_r'))\n",
      "plt.colorbar()"
     ],
     "language": "python",
     "metadata": {},
     "outputs": [
      {
       "metadata": {},
       "output_type": "pyout",
       "prompt_number": 15,
       "text": [
        "<matplotlib.colorbar.Colorbar instance at 0x112baf1b8>"
       ]
      },
      {
       "metadata": {},
       "output_type": "display_data",
       "png": "[encoded data removed]",
       "text": [
        "<matplotlib.figure.Figure at 0x11297a990>"
       ]
      }
     ],
     "prompt_number": 15
    },
    {
     "cell_type": "markdown",
     "metadata": {},
     "source": [
      "(By the way, you can resize the plot by dragging its bottom right-hand corner. Try it!)\n",
      "\n",
      "## TODO: plot a vertical profile\n",
      "Show axis reversal\n",
      "\n",
      "## Recap\n",
      "\n",
      "## Exercises\n",
      "\n",
      "***TODO*** plot a vertical section"
     ]
    },
    {
     "cell_type": "code",
     "collapsed": false,
     "input": [],
     "language": "python",
     "metadata": {},
     "outputs": [],
     "prompt_number": 14
    }
   ],
   "metadata": {}
  }
 ]
}