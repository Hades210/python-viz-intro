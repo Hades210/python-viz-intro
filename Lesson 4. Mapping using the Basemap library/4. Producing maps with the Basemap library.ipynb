{
 "metadata": {
  "name": "",
  "signature": "sha256:05ef43ef20d64e671d5036c2a7b5490fbb358f86f81e2b9d6ff2c6ab02e754fa"
 },
 "nbformat": 3,
 "nbformat_minor": 0,
 "worksheets": [
  {
   "cells": [
    {
     "cell_type": "markdown",
     "metadata": {},
     "source": [
      "# Data Assimilation and Visualization Short Course\n",
      "# Visualization practical\n",
      "\n",
      "## Wednesday 17th September 2014\n",
      "## Jon Blower\n",
      "\n",
      "# Lesson 4: Producing maps with the Basemap library\n",
      "\n",
      "In Lesson 3 we produced some maps from NetCDF data in a simple latitude-longitude projection, because this was the projection used in the source data files. But we can be more flexible than that and plot the same data in many different projections using a Python/Matplotlib library called [Basemap](http://matplotlib.org/basemap/).\n",
      "\n",
      "## Objectives\n",
      "1. To get an overview of different map projections\n",
      "1. To learn how to use the Basemap library to plot data in different projections\n",
      "\n",
      "## Map projections\n",
      "\n",
      "A full discussion of map projections is beyond the scope of this practical, but basically, map projections may be designed to preserve different properties:\n",
      "\n",
      "* Some projections are designed to preserve *area*, so that one pixel on the screen represents the same area of the Earth's surface everywhere on the map. The sinusoidal projection (***TODO add link***) is an example of this. These are good for presenting areal statistics.\n",
      "* Others preserve *direction*, so that an angle of 45 degrees on the map represents a real compass bearing of 45 degrees (e.g. the Mercator projection). These projections are good for navigation (which is why Google Maps uses a Mercator projection). * Others preserve *angles* so that shapes on the map represent the real shapes of continents (e.g. ***TODO***). Others represent a view of the Earth from space (e.g. orthographic).\n",
      "\n",
      "The key points are:\n",
      "1. There is no map projection that preserves all these quantities (area, direction or angle) everywhere on the map. Therefore the choice of map projection depends on what you want to show. If you are showing areal statistics, you will probably want an area-preserving projection otherwise your data will distort the truth.\n",
      "1. The commonly-used latitude-longitude projection does not have any of the above properties, so it is often derided by cartographers. Bear this in mind when producing plots and consider using a better projection if appropriate.\n",
      "\n",
      "## How to use the Basemap library\n",
      "***TODO*** simple script, show a few projections"
     ]
    },
    {
     "cell_type": "code",
     "collapsed": false,
     "input": [],
     "language": "python",
     "metadata": {},
     "outputs": []
    }
   ],
   "metadata": {}
  }
 ]
}