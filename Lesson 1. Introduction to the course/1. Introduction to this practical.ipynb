{
 "metadata": {
  "name": "",
  "signature": "sha256:c8d244cd4865d95f0e3d6383c991f4650011db5b7c1cf70a745d1b3eaed32cb9"
 },
 "nbformat": 3,
 "nbformat_minor": 0,
 "worksheets": [
  {
   "cells": [
    {
     "cell_type": "markdown",
     "metadata": {},
     "source": [
      "# Data Assimilation and Visualization Short Course\n",
      "# Visualization practical\n",
      "\n",
      "## Wednesday 17th September 2014\n",
      "## Jon Blower\n",
      "\n",
      "# Lesson 1: Introduction to this practical\n",
      "\n",
      "This practical session will introduce to some simple plotting and visualization tasks in the Python programming language. No knowledge of Python is assumed. Each lesson consists of a web page (like this one), which takes you through the main concepts, with code examples. The lessons are accompanied by sample scripts (with the extension `.py`). These scripts can be run to produce plots and visualizations - but sometimes key lines are omitted and you will have to fill these in to make the script work, using the knowlege you have gained from the notes. Hopefully you should be able to work out what code you need to write in these sections, even if you don't know Python well.\n",
      "\n",
      "If you have not already done so, you should download the sample scripts and data files from ***TODO*** here and unzip to a directory in your user space. You should see a set of ***TODO*** folders.\n",
      "\n",
      "The lessons are as follows:\n",
      "\n",
      "1. Introduction to this practical (this one!)\n",
      "1. Introduction to Python - a brief overview of the Python language and how to run Python programs. If you know Python you can skip this one.\n",
      "1. Simple plotting - Use of Python and the Matplotlib library to create some simple line plots and colour plots.\n",
      "1. Plotting data from NetCDF files - Reading gridded data from files in the NetCDF format, then creating plots of various kinds.\n",
      "1. Mapping - Using the Basemap library to create maps from geographic data, combining gridded data with point data.\n",
      "1. ***TODO*** Bivariate colour maps - a lesson on some more advanced visualization techniques\n",
      "\n",
      "Don't worry if you can't get through all these lessons in the time available. The material will continue to be available online after the course for you to study later if you wish.\n",
      "\n",
      "The lessons (web pages) contain hyperlinks to external websites that contain more information; therefore it is best to read these notes in a web browser instead of on paper. Some lessons have Exercises you can work through to test your knowledge. All lessons finish with a set of Further Reading that you might like to follow up with later.\n",
      "\n",
      "Now let's move on with the first lesson."
     ]
    },
    {
     "cell_type": "code",
     "collapsed": false,
     "input": [],
     "language": "python",
     "metadata": {},
     "outputs": []
    }
   ],
   "metadata": {}
  }
 ]
}