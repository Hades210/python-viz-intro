{
 "metadata": {
  "name": "",
  "signature": "sha256:529bcc013b7628051e1ca4c6c819e7b1a29c5e89de0846139f4df703cc5b1dd0"
 },
 "nbformat": 3,
 "nbformat_minor": 0,
 "worksheets": [
  {
   "cells": [
    {
     "cell_type": "markdown",
     "metadata": {},
     "source": [
      "# Data Assimilation and Visualization Short Course\n",
      "# Visualization practical\n",
      "\n",
      "## Wednesday 17th September 2014\n",
      "## Jon Blower\n",
      "\n",
      "# Lesson 3: Simple plotting\n",
      "\n",
      "We have already mentioned that Python is not specifically a scientific programming language. Some users who may be familiar with systems like Matlab and IDL are rather surprised to find that typing `plot(somedata)` directly into a Python prompt does not work. We have to import the right *libraries* in order to do this.\n",
      "\n",
      "The wonderful [Matplotlib](http://matplotlib.org/) library let's us create lots of types of plot in a Matlab-like syntax (see the [Matplotlib gallery](http://matplotlib.org/gallery.html) for some examples). This is what we're going to use in this lesson, and for the rest of the practical, although other libraries are available too (see Further Reading below).\n",
      "\n",
      "## Objectives\n",
      "1. To create simple line plots and contour plots using Python, Numpy and Matplotlib\n",
      "\n",
      "## A simple line plot\n",
      "\n",
      "Before we can do any plotting we need to import the matplotlib code. The most common way to do this is like this:"
     ]
    },
    {
     "cell_type": "code",
     "collapsed": false,
     "input": [
      "import matplotlib.pyplot as plt"
     ],
     "language": "python",
     "metadata": {},
     "outputs": [],
     "prompt_number": 1
    },
    {
     "cell_type": "markdown",
     "metadata": {},
     "source": [
      "Don't worry about the syntax here. You can find more details about how to import libraries in Python [here](http://www.tutorialspoint.com/python/python_modules.htm) if you wish.\n",
      "\n",
      "As we've mentioned, this lesson is written in the IPython notebook system. We need to add one line of \"magic\" in order to get plotting to work within this notebook, but you **don't** have to add this line to any Python scripts. So you can ignore this line for today:"
     ]
    },
    {
     "cell_type": "code",
     "collapsed": false,
     "input": [
      "%matplotlib inline"
     ],
     "language": "python",
     "metadata": {},
     "outputs": [],
     "prompt_number": 2
    },
    {
     "cell_type": "markdown",
     "metadata": {},
     "source": [
      "Let's create a simple line plot:"
     ]
    },
    {
     "cell_type": "code",
     "collapsed": false,
     "input": [
      "plt.plot([0,1,4,9,16,25,36,49])"
     ],
     "language": "python",
     "metadata": {},
     "outputs": [
      {
       "metadata": {},
       "output_type": "pyout",
       "prompt_number": 3,
       "text": [
        "[<matplotlib.lines.Line2D at 0x111354810>]"
       ]
      },
      {
       "metadata": {},
       "output_type": "display_data",
       "png": "[encoded data removed]",
       "text": [
        "<matplotlib.figure.Figure at 0x111219610>"
       ]
      }
     ],
     "prompt_number": 3
    },
    {
     "cell_type": "markdown",
     "metadata": {},
     "source": [
      "The numbers between the square brackets form a [*list*](http://www.tutorialspoint.com/python/python_lists.htm) in Python.\n",
      "\n",
      "This code can be run as a (two-line) script: load up `TODO.py` in your text editor and run it.\n",
      "\n",
      "## Introducing Numpy arrays\n",
      "In scientific programming it's very common to need to manipulate and plot arrays of numbers. It's possible to use Python's own lists for this purpose (as in the program above), but these can be inconvenient (and slow) for large or multidimensional arrays.  The [Numpy](http://www.numpy.org) library is very commonly used for this.\n",
      "\n",
      "We import Numpy like this:"
     ]
    },
    {
     "cell_type": "code",
     "collapsed": false,
     "input": [
      "import numpy as np"
     ],
     "language": "python",
     "metadata": {},
     "outputs": [],
     "prompt_number": 4
    },
    {
     "cell_type": "markdown",
     "metadata": {},
     "source": [
      "Let's create a Numpy array containing the numbers from 0 to 9 inclusive. These will form the x values of our next plot:"
     ]
    },
    {
     "cell_type": "code",
     "collapsed": false,
     "input": [
      "x = np.arange(10)\n",
      "print x"
     ],
     "language": "python",
     "metadata": {},
     "outputs": [
      {
       "output_type": "stream",
       "stream": "stdout",
       "text": [
        "[0 1 2 3 4 5 6 7 8 9]\n"
       ]
      }
     ],
     "prompt_number": 6
    },
    {
     "cell_type": "markdown",
     "metadata": {},
     "source": [
      "Now let's create the y values by squaring each of the x values:"
     ]
    },
    {
     "cell_type": "code",
     "collapsed": false,
     "input": [
      "y = x**2\n",
      "print y"
     ],
     "language": "python",
     "metadata": {},
     "outputs": [
      {
       "output_type": "stream",
       "stream": "stdout",
       "text": [
        "[ 0  1  4  9 16 25 36 49 64 81]\n"
       ]
      }
     ],
     "prompt_number": 7
    },
    {
     "cell_type": "markdown",
     "metadata": {},
     "source": [
      "Now we can create a new plot using these x and y values. We'll also label the axes and give the plot a title."
     ]
    },
    {
     "cell_type": "code",
     "collapsed": false,
     "input": [
      "plt.plot(x,y)\n",
      "plt.xlabel('x')\n",
      "plt.ylabel('y')\n",
      "plt.title('A nice plot')"
     ],
     "language": "python",
     "metadata": {},
     "outputs": [
      {
       "metadata": {},
       "output_type": "pyout",
       "prompt_number": 15,
       "text": [
        "<matplotlib.text.Text at 0x1116a2090>"
       ]
      },
      {
       "metadata": {},
       "output_type": "display_data",
       "png": "[encoded data removed]",
       "text": [
        "<matplotlib.figure.Figure at 0x1115e9c50>"
       ]
      }
     ],
     "prompt_number": 15
    },
    {
     "cell_type": "markdown",
     "metadata": {},
     "source": [
      "Fairly straightforward, yes? You can find a runnable script that does this in `TODO.py`. You can change the colour and style of the line: for example, to plot a red dashed line you can use `plt.plot(x,y,'r--')`. Edit the script and try it!\n",
      "\n",
      "## Plotting two-dimensional data\n",
      "To plot two-dimensional data (i.e. `z = f(x,y)`) we follow the same general idea. Firstly, we'll create a 2D array of data. There are various ways to do this, but we'll start by creating x and y values; eleven of each ranging from -1 to +1:"
     ]
    },
    {
     "cell_type": "code",
     "collapsed": false,
     "input": [
      "x = np.linspace(-1,1,11)\n",
      "y = np.linspace(-1,1,11)"
     ],
     "language": "python",
     "metadata": {},
     "outputs": [],
     "prompt_number": 17
    },
    {
     "cell_type": "markdown",
     "metadata": {},
     "source": [
      "We'll now create a grid from these x and y values, then create a 2D array of Z values. Don't worry if you don't quite follow what is happening here. (You can find out more about the `meshgrid` function [here](http://docs.scipy.org/doc/numpy/reference/generated/numpy.meshgrid.html).)"
     ]
    },
    {
     "cell_type": "code",
     "collapsed": false,
     "input": [
      "X, Y = np.meshgrid(x,y)\n",
      "Z = np.cos(X) * np.cos(Y)"
     ],
     "language": "python",
     "metadata": {},
     "outputs": [],
     "prompt_number": 19
    },
    {
     "cell_type": "markdown",
     "metadata": {},
     "source": [
      "Now we can create a filled contour plot from the data (using 20 contour values), add x and y axis labels and a title, and finally a colour bar:"
     ]
    },
    {
     "cell_type": "code",
     "collapsed": false,
     "input": [
      "plt.contourf(x,y,Z,20)\n",
      "plt.xlabel('x')\n",
      "plt.ylabel('y')\n",
      "plt.title('cos(x) * cos(y)')\n",
      "plt.colorbar()"
     ],
     "language": "python",
     "metadata": {},
     "outputs": [
      {
       "metadata": {},
       "output_type": "pyout",
       "prompt_number": 29,
       "text": [
        "<matplotlib.colorbar.Colorbar instance at 0x112018998>"
       ]
      },
      {
       "metadata": {},
       "output_type": "display_data",
       "png": "[encoded data removed]",
       "text": [
        "<matplotlib.figure.Figure at 0x111f4f9d0>"
       ]
      }
     ],
     "prompt_number": 29
    },
    {
     "cell_type": "markdown",
     "metadata": {},
     "source": [
      "## TODO: plot timeseries data from DALEC?\n",
      "## TODO: timeseries heatmap?\n",
      "\n",
      "## Exercise\n",
      "The code to plot the 2D data can be found in `TODO.py`. Using the guidance [here](http://matplotlib.org/examples/color/colormaps_reference.html) on the Matplotlib website (***TODO is there a better reference?***), edit this script and experiment with using different colour scales. In what ways do the data look different under different colour scales? Should you be using a sequential, diverging or qualitative (i.e. nominal) scale?\n",
      "\n",
      "## Further Reading\n",
      "***TODO*** bokeh, plotly etc.\n",
      "\n",
      "## Notes\n",
      "***TODO*** Some notes about Pylab, and \"from x import \\*\" dangers"
     ]
    },
    {
     "cell_type": "code",
     "collapsed": false,
     "input": [],
     "language": "python",
     "metadata": {},
     "outputs": []
    }
   ],
   "metadata": {}
  }
 ]
}